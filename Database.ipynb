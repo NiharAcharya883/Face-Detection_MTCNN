{
 "cells": [
  {
   "cell_type": "code",
   "execution_count": 61,
   "metadata": {},
   "outputs": [],
   "source": [
    "import pyodbc as odbc\n",
    "import os\n",
    "import torch\n",
    "import matplotlib.pyplot as plt\n",
    "from facenet_pytorch import MTCNN\n",
    "import face_recognition\n",
    "import cv2\n",
    "import json\n",
    "mtcnn = MTCNN(keep_all=True)"
   ]
  },
  {
   "cell_type": "code",
   "execution_count": 62,
   "metadata": {},
   "outputs": [],
   "source": [
    "SERVER_NAME = 'localhost\\SQLEXPRESS'\n",
    "DRIVER_NAME = 'ODBC Driver 17 for SQL Server'\n",
    "DATABASE_NAME = 'Face_Recognition'\n",
    "cnxn = odbc.connect('DRIVER={ODBC Driver 17 for SQL Server}; \\\n",
    "                    SERVER='+SERVER_NAME+'; \\\n",
    "                    DATABASE = '+DATABASE_NAME+'; \\\n",
    "                    Trusted_connection=yes;')\n",
    "cur = cnxn.cursor()"
   ]
  },
  {
   "cell_type": "code",
   "execution_count": 63,
   "metadata": {},
   "outputs": [
    {
     "data": {
      "text/plain": [
       "<pyodbc.Cursor at 0x1181c0b9a30>"
      ]
     },
     "execution_count": 63,
     "metadata": {},
     "output_type": "execute_result"
    }
   ],
   "source": [
    "cur.execute(\"use Face_Detection\")"
   ]
  },
  {
   "cell_type": "code",
   "execution_count": 64,
   "metadata": {},
   "outputs": [],
   "source": [
    "# CREATE TABLE All_Images\n",
    "table_name = 'All_Images'\n",
    "create_table_query = f\"\"\"\n",
    "IF NOT EXISTS (SELECT * FROM INFORMATION_SCHEMA.TABLES WHERE TABLE_NAME = '{table_name}')\n",
    "BEGIN\n",
    "    CREATE TABLE {table_name} (\n",
    "        Image_ID INT PRIMARY KEY,\n",
    "        Image_Path NVARCHAR(255),\n",
    "        No_of_Faces INT\n",
    "    );\n",
    "END\n",
    "\"\"\"\n",
    "# Execute the query\n",
    "cur.execute(create_table_query)\n",
    "cur.commit()"
   ]
  },
  {
   "cell_type": "code",
   "execution_count": 65,
   "metadata": {},
   "outputs": [],
   "source": [
    "# INSERT INTO All_Images TABLE\n",
    "cur.execute(\"select max(Image_id) from all_images\")\n",
    "pid = cur.fetchone()\n",
    "# print(pid)\n",
    "if pid[0] is None:\n",
    "    Id = 101\n",
    "else:\n",
    "    Id = pid[0] + 1\n",
    "no_of_faces = 0\n",
    "Image_folder = input(\"Enter All_Images Folder path:\")\n",
    "for image in os.listdir(Image_folder):\n",
    "    image_path = os.path.join(Image_folder,image)\n",
    "\n",
    "    read_image = cv2.imread(image_path)\n",
    "    image_rgb = cv2.cvtColor(read_image,cv2.COLOR_BGR2RGB)\n",
    "    faces,_ = mtcnn.detect(image_rgb)\n",
    "    if faces is None:\n",
    "        no_of_faces=str(0)\n",
    "    else:\n",
    "        no_of_faces = str(len(faces))\n",
    "    cur.execute(\"select count(image_path) from all_images where image_path = ?\",(image_path))\n",
    "    cc = cur.fetchone()[0]\n",
    "    if cc == 0:\n",
    "        cur.execute(\"Insert into all_images(image_id,image_path,no_of_faces) values(?,?,?)\",(Id,image_path,no_of_faces))\n",
    "        cur.commit()\n",
    "        Id+=1\n",
    "    # cur.execute('MERGE INTO All_Images AS target USING (SELECT ? AS image_id, ? AS image_path , ? AS No_of_faces) AS source ON (target.image_ID = source.image_ID) WHEN NOT MATCHED THEN INSERT (image_id, image_path,no_of_faces) VALUES (source.image_id, source.image_path,source.no_of_faces);',(Id,image_path,no_of_faces))\n",
    "\n",
    "    # cur.commit()\n",
    "    # Id+=1\n"
   ]
  },
  {
   "cell_type": "code",
   "execution_count": 66,
   "metadata": {},
   "outputs": [],
   "source": [
    "# Target_Images TABLE CREATION\n",
    "table_name = 'Target_Images'\n",
    "create_table_query = f\"\"\"\n",
    "IF NOT EXISTS (SELECT * FROM INFORMATION_SCHEMA.TABLES WHERE TABLE_NAME = '{table_name}')\n",
    "BEGIN\n",
    "    CREATE TABLE {table_name} (\n",
    "        Person_ID INT PRIMARY KEY,\n",
    "        Person_Image_path NVARCHAR(255),\n",
    "        Name NVARCHAR(30)\n",
    "    );\n",
    "END\n",
    "\"\"\"\n",
    "# Execute the query\n",
    "cur.execute(create_table_query)\n",
    "cur.commit()"
   ]
  },
  {
   "cell_type": "code",
   "execution_count": 67,
   "metadata": {},
   "outputs": [],
   "source": [
    "# INSERT INTO target_Image TABLE\n",
    "cur.execute(\"select max(person_id) from Target_images\")\n",
    "pid = cur.fetchone()\n",
    "# print(pid)\n",
    "if pid[0] is None:\n",
    "    Id = 1\n",
    "else:\n",
    "    Id = pid[0] + 1\n",
    "target_image_folder = input(\"Enter Target_Images Folder Path:\")\n",
    "# target_image_folder = r\"C:\\Users\\nihar\\Desktop\\4th Sem\\Face\\Images\\Players\"\n",
    "for target in os.listdir(target_image_folder):\n",
    "    target_image_path = os.path.join(target_image_folder,target)\n",
    "    name = target.split('.')\n",
    "    Name = name[0]\n",
    "    cur.execute(\"select count(person_image_path) from target_images where person_image_path = ?\",(target_image_path))\n",
    "    cc = cur.fetchone()[0]\n",
    "    if cc == 0:\n",
    "        cur.execute(\"Insert into target_images(person_id,person_image_path,Name) values(?,?,?)\",(Id,target_image_path,Name))\n",
    "        cur.commit()\n",
    "        Id+=1\n",
    "    # cur.execute('MERGE INTO Target_Images AS target USING (SELECT ? AS person_id, ? AS person_image_path , ? AS Name) AS source ON (target.person_image_path = source.person_image_path) WHEN NOT MATCHED THEN INSERT (person_id, person_image_path,Name) VALUES (source.person_id, source.person_image_path,source.Name);',(Id,target_image_path,Name))"
   ]
  },
  {
   "cell_type": "code",
   "execution_count": 68,
   "metadata": {},
   "outputs": [],
   "source": [
    "# MATCHED IMAGES TABLE CREATION\n",
    "table_name = 'Matched_images'\n",
    "create_table_query = f\"\"\"\n",
    "IF NOT EXISTS (SELECT * FROM INFORMATION_SCHEMA.TABLES WHERE TABLE_NAME = '{table_name}')\n",
    "BEGIN\n",
    "    CREATE TABLE {table_name} (\n",
    "        Image_path nvarchar(255),\n",
    "        Person_id int,\n",
    "        Image_id int,\n",
    "        Name nvarchar(30)\n",
    "    );\n",
    "END\n",
    "\"\"\"\n",
    "# Execute the query\n",
    "cur.execute(create_table_query)\n",
    "cur.commit()\n"
   ]
  },
  {
   "cell_type": "code",
   "execution_count": 69,
   "metadata": {},
   "outputs": [],
   "source": [
    "# All_Images_ENCODINGS TABLE CREATION\n",
    "table_name = 'All_Images_encodings'\n",
    "create_table_query = f\"\"\"\n",
    "IF NOT EXISTS (SELECT * FROM INFORMATION_SCHEMA.TABLES WHERE TABLE_NAME = '{table_name}')\n",
    "BEGIN\n",
    "    CREATE TABLE {table_name} (\n",
    "        Image_id int,\n",
    "        encodings nvarchar(4000)\n",
    "    );\n",
    "END\n",
    "\"\"\"\n",
    "# Execute the query\n",
    "cur.execute(create_table_query)\n",
    "cur.commit()\n"
   ]
  },
  {
   "cell_type": "code",
   "execution_count": 70,
   "metadata": {},
   "outputs": [],
   "source": [
    "def detect_face(image_rgb):\n",
    "    boxes,_ = mtcnn.detect(image_rgb)\n",
    "    face_locations=[]\n",
    "    if (boxes is not None):\n",
    "        boxes = list(boxes)\n",
    "        for box in boxes:\n",
    "            top,right,bottom,left = int(box[1]),int(box[2]),int(box[3]),int(box[0])\n",
    "            face_locations.append((top,right,bottom,left))\n",
    "        return face_locations\n",
    "    else:\n",
    "        return []"
   ]
  },
  {
   "cell_type": "code",
   "execution_count": 71,
   "metadata": {},
   "outputs": [],
   "source": [
    "def encode_faces(image,face_loactions):\n",
    "    face_encodings = face_recognition.face_encodings(image,face_loactions)\n",
    "    return face_encodings"
   ]
  },
  {
   "cell_type": "code",
   "execution_count": 72,
   "metadata": {},
   "outputs": [],
   "source": [
    "# INSERT INTO All_images_ENCODINGS TABLE\n",
    "cur.execute(\"SELECT Image_ID,Image_path,No_of_Faces FROM All_Images\")\n",
    "All_images = cur.fetchall()\n",
    "\n",
    "for image in All_images:\n",
    "    read_image = cv2.imread(image[1])\n",
    "    image_id = image[0]\n",
    "    image_rgb = cv2.cvtColor(read_image,cv2.COLOR_BGR2RGB)\n",
    "    detect_faces = detect_face(image_rgb)\n",
    "    image_encode = encode_faces(image_rgb,detect_faces)\n",
    "    for encoding in image_encode:\n",
    "        encoding_str = json.dumps(encoding.tolist())\n",
    "        cur.execute(\"select count(Image_ID) from All_images_encodings where Image_ID = ?\",(image_id))\n",
    "        c = cur.fetchone()[0]\n",
    "        faces = image[2]\n",
    "        if c>0 and c==faces:\n",
    "            # print(faces)\n",
    "            pass\n",
    "            # while (c>0):\n",
    "                # cur.execute(\"insert into All_Images_encodings(Image_id,encodings) values (?,?)\",(image_id,encoding_str))\n",
    "                # c = c - 1\n",
    "        else:\n",
    "            cur.execute(\"insert into All_Images_encodings(Image_id,encodings) values (?,?)\",(image_id,encoding_str))\n",
    "        # cur.execute(\"SELECT count(*) FROM All_Images_encodings WHERE encodings Like ? AND Image_ID = ?\", (encoding_str,image_id))\n",
    "        # row_count = cur.fetchone()[0]\n",
    "\n",
    "        # if row_count == 0:\n",
    "        # if cur.fetchone() is None:\n",
    "cur.commit()\n"
   ]
  },
  {
   "cell_type": "code",
   "execution_count": 73,
   "metadata": {},
   "outputs": [],
   "source": [
    "# Target_Images_ENCODINGS TABLE CREATION\n",
    "table_name = 'Target_Images_encodings'\n",
    "create_table_query = f\"\"\"\n",
    "IF NOT EXISTS (SELECT * FROM INFORMATION_SCHEMA.TABLES WHERE TABLE_NAME = '{table_name}')\n",
    "BEGIN\n",
    "    CREATE TABLE {table_name} (\n",
    "        Person_id int,\n",
    "        encodings varchar(max)\n",
    "    );\n",
    "END\n",
    "\"\"\"\n",
    "# Execute the query\n",
    "cur.execute(create_table_query)\n",
    "cur.commit()\n"
   ]
  },
  {
   "cell_type": "code",
   "execution_count": 74,
   "metadata": {},
   "outputs": [],
   "source": [
    "# INSERT INTO TARGET_IMAGES_ENCODINGS TABLE\n",
    "cur.execute(\"SELECT Person_ID,Person_Image_path FROM Target_Images\")\n",
    "person_images = cur.fetchall()\n",
    "\n",
    "for image in person_images:\n",
    "    person_image = cv2.imread(image[1])\n",
    "    person_id = image[0]\n",
    "    person_image_rgb = cv2.cvtColor(person_image,cv2.COLOR_BGR2RGB)\n",
    "    detect_person = detect_face(person_image_rgb)\n",
    "    person_image_encode = encode_faces(person_image_rgb,detect_person)\n",
    "    for encoding in person_image_encode:\n",
    "        encoding_str = json.dumps(encoding.tolist())\n",
    "        cur.execute('MERGE INTO Target_Images_encodings AS target USING (SELECT ? AS Person_id, ? AS encodings) AS source ON (target.Person_id = source.Person_id) WHEN NOT MATCHED THEN INSERT (Person_id, encodings) VALUES (source.Person_id, source.encodings);',(person_id,encoding_str))\n",
    "cur.commit()\n"
   ]
  }
 ],
 "metadata": {
  "kernelspec": {
   "display_name": "Python 3",
   "language": "python",
   "name": "python3"
  },
  "language_info": {
   "codemirror_mode": {
    "name": "ipython",
    "version": 3
   },
   "file_extension": ".py",
   "mimetype": "text/x-python",
   "name": "python",
   "nbconvert_exporter": "python",
   "pygments_lexer": "ipython3",
   "version": "3.11.4"
  }
 },
 "nbformat": 4,
 "nbformat_minor": 2
}

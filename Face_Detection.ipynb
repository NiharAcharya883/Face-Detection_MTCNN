{
 "cells": [
  {
   "cell_type": "code",
   "execution_count": 9,
   "metadata": {},
   "outputs": [],
   "source": [
    "import os\n",
    "import cv2\n",
    "import face_recognition\n",
    "import numpy as np\n",
    "import torch\n",
    "from facenet_pytorch import MTCNN\n",
    "import mtcnn\n",
    "import matplotlib.pyplot as plt\n",
    "mtcnn = MTCNN(keep_all=True)\n",
    "import json\n",
    "import pyodbc as odbc\n",
    "import shutil"
   ]
  },
  {
   "cell_type": "code",
   "execution_count": 10,
   "metadata": {},
   "outputs": [],
   "source": [
    "SERVER_NAME = 'localhost\\SQLEXPRESS'\n",
    "DRIVER_NAME = 'ODBC Driver 17 for SQL Server'\n",
    "DATABASE_NAME = 'Face_Recognition'\n",
    "cnxn = odbc.connect('DRIVER={ODBC Driver 17 for SQL Server}; \\\n",
    "                    SERVER='+SERVER_NAME+'; \\\n",
    "                    DATABASE = '+DATABASE_NAME+'; \\\n",
    "                    Trusted_connection=yes;')\n",
    "cur = cnxn.cursor()"
   ]
  },
  {
   "cell_type": "markdown",
   "metadata": {},
   "source": [
    "Create a database named 'Face_Detection' in your sql server"
   ]
  },
  {
   "cell_type": "code",
   "execution_count": 11,
   "metadata": {},
   "outputs": [
    {
     "data": {
      "text/plain": [
       "<pyodbc.Cursor at 0x1f0a6d14030>"
      ]
     },
     "execution_count": 11,
     "metadata": {},
     "output_type": "execute_result"
    }
   ],
   "source": [
    "cur.execute(\"use Face_Detection\")"
   ]
  },
  {
   "cell_type": "code",
   "execution_count": 12,
   "metadata": {},
   "outputs": [],
   "source": [
    "def compare_faces(encoding1,encoding2):\n",
    "    compare = face_recognition.compare_faces(encoding1,encoding2,tolerance=0.6)\n",
    "    return compare"
   ]
  },
  {
   "cell_type": "code",
   "execution_count": 13,
   "metadata": {},
   "outputs": [
    {
     "name": "stdout",
     "output_type": "stream",
     "text": [
      "Successfull\n"
     ]
    }
   ],
   "source": [
    "def main():\n",
    "    matched_dir = input(\"Enter Matched_Images Folder Path: \")\n",
    "\n",
    "\n",
    "    cur.execute(\"select * from Target_Images\")\n",
    "    Target_images = cur.fetchall()\n",
    "    cur.execute(\"select * from All_Images\")\n",
    "    All_images = cur.fetchall()\n",
    "    for target_image in Target_images:\n",
    "        \n",
    "        target_folder = os.path.join(matched_dir, target_image[2])\n",
    "        if not os.path.exists(target_folder):\n",
    "            os.makedirs(target_folder)\n",
    "\n",
    "        cur.execute(\"select encodings from Target_images_encodings where person_id Like ?\",(target_image[0]))\n",
    "        pe = cur.fetchall()\n",
    "        for pen in pe:\n",
    "            person_encoding = np.array(json.loads(pen[0]))\n",
    "\n",
    "            for image in All_images:\n",
    "                cur.execute(\"select encodings from All_Images_encodings where image_id = ?\",(image[0]))\n",
    "                All_image_encodings = cur.fetchall()\n",
    "                for gen in All_image_encodings:\n",
    "                    All_image_encoding = np.array(json.loads(gen[0]))\n",
    "                    match = compare_faces([All_image_encoding],person_encoding)\n",
    "                    if (True in match) or ([True] in match):\n",
    "                        cur.execute(\"SELECT 1 FROM matched_images WHERE Image_id = ? AND Person_ID = ? AND IMAGE_path = ? AND Name = ?\", (image[0],target_image[0],image[1],target_image[2]))\n",
    "                        if cur.fetchone() is None:\n",
    "                            cur.execute(\"insert into matched_images(Image_path,Person_id,Image_id,Name) values (?,?,?,?)\",(image[1],target_image[0],image[0],target_image[2]))\n",
    "                            shutil.copy(image[1], target_folder)\n",
    "                            break\n",
    "    cur.commit()\n",
    "    print(\"Successfull\")\n",
    "main()"
   ]
  }
 ],
 "metadata": {
  "kernelspec": {
   "display_name": "Python 3",
   "language": "python",
   "name": "python3"
  },
  "language_info": {
   "codemirror_mode": {
    "name": "ipython",
    "version": 3
   },
   "file_extension": ".py",
   "mimetype": "text/x-python",
   "name": "python",
   "nbconvert_exporter": "python",
   "pygments_lexer": "ipython3",
   "version": "3.11.4"
  }
 },
 "nbformat": 4,
 "nbformat_minor": 2
}
